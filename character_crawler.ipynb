{
 "cells": [
  {
   "cell_type": "code",
   "execution_count": 58,
   "metadata": {},
   "outputs": [],
   "source": [
    "import pandas as pd\n",
    "import os\n",
    "import bs4\n",
    "import requests\n",
    "from time import sleep\n",
    "from lib import utils\n",
    "import json\n",
    "from IPython.display import display, clear_output"
   ]
  },
  {
   "cell_type": "code",
   "execution_count": 160,
   "metadata": {},
   "outputs": [],
   "source": [
    "url1 = 'https://wiki.lspace.org/mediawiki/Cirone_III'\n",
    "url2 = 'https://wiki.lspace.org/mediawiki/Death'\n",
    "url3 = 'https://wiki.lspace.org/mediawiki/Great_A%27Tuin'\n",
    "url4 = 'https://wiki.lspace.org/mediawiki/Rincewind'"
   ]
  },
  {
   "cell_type": "code",
   "execution_count": 230,
   "metadata": {},
   "outputs": [],
   "source": [
    "file_list = os.listdir('character_pages/')"
   ]
  },
  {
   "cell_type": "code",
   "execution_count": 234,
   "metadata": {},
   "outputs": [],
   "source": [
    "content_dict = {}\n",
    "categories_dict = {}\n",
    "bio_dict = {}\n",
    "\n",
    "for file in file_list:\n",
    "    with open('character_pages/' + file, 'r') as obj:\n",
    "        page_html = obj.read()\n",
    "    \n",
    "    char = file.split('.')[0]\n",
    "    page_soup = bs4.BeautifulSoup(page_html)\n",
    "\n",
    "    # Content\n",
    "    content_elms = page_soup.select('div .mw-content-ltr > p')\n",
    "    content_txt = ' '.join([content_elms[x].getText(separator=' ',strip=True) for x in range(len(content_elms))])\n",
    "    content_dict[char] = content_txt\n",
    "    \n",
    "    # Character Categorie\n",
    "    cate = page_soup.select('div .mw-normal-catlinks > ul')[0].getText(separator=',', strip=True)\n",
    "    categories_dict[char] = cate\n",
    "    \n",
    "    # Character biography\n",
    "    bio_elms = page_soup.select('div .mw-content-ltr tr[style=\"vertical-align: top; text-align: left;\"]')\n",
    "    bio_dict[char] = {}\n",
    "    for elm in bio_elms:\n",
    "        key = elm.select('td')[0].getText().strip()\n",
    "        if key == 'Books':\n",
    "            value = elm.select('td')[1].getText(separator=',', strip=True)\n",
    "        else:\n",
    "            value = elm.select('td')[1].getText(separator=' ', strip=True)\n",
    "        bio_dict[char][key] = value"
   ]
  },
  {
   "cell_type": "code",
   "execution_count": 235,
   "metadata": {},
   "outputs": [
    {
     "data": {
      "text/plain": [
       "{'59th_Abbot': {},\n",
       " 'Abbot': {},\n",
       " 'Abbys': {},\n",
       " 'Abraxas': {},\n",
       " 'Abrim': {},\n",
       " 'Achmed_The_Mad': {},\n",
       " 'Aeron': {},\n",
       " 'Agantia': {},\n",
       " 'Agony_Aunts': {},\n",
       " 'George_Aggy': {},\n",
       " 'Great_A%27Tuin': {'Name': \"Great A'Tuin to Discworld scholars (What It calls Itself is unknown)\",\n",
       "  'Race': 'Chelys Galactica',\n",
       "  'Age': 'Ancient',\n",
       "  'Occupation': 'Worldbearer',\n",
       "  'Physical appearance': 'megachelonian',\n",
       "  'Residence': 'Space',\n",
       "  'Death': 'unforeseen',\n",
       "  'Parents': '',\n",
       "  'Relatives': '',\n",
       "  'Children': 'possibly eight',\n",
       "  'Marital Status': '',\n",
       "  'Books': 'The Colour of Magic,,,The Light Fantastic',\n",
       "  'Cameos': 'always there, of course'},\n",
       " 'Joe_Aching': {},\n",
       " 'Sarah_Aching': {'Name': 'Sarah Grizzel Aching',\n",
       "  'Race': 'Human',\n",
       "  'Age': 'old',\n",
       "  'Occupation': 'shepherd',\n",
       "  'Physical appearance': '',\n",
       "  'Residence': 'The Chalk',\n",
       "  'Death': 'ca. 1986 UC',\n",
       "  'Parents': '',\n",
       "  'Relatives': 'Hannah and Fastidia Aching, and four other sisters (oldest grandaughters) Tiffany Aching (youngest grandaughter) Wentworth Aching (youngest grandson)',\n",
       "  'Children': 'Joe Aching (son)',\n",
       "  'Marital Status': '',\n",
       "  'Books': 'The Wee Free Men',\n",
       "  'Cameos': ''},\n",
       " 'Tiffany_Aching': {'Name': 'Tiffany Aching',\n",
       "  'Race': 'Human',\n",
       "  'Age': \"in her late teens as of The Shepherd's Crown (born around 1979 UC )\",\n",
       "  'Occupation': 'Former Milkmaid, now Witch',\n",
       "  'Physical appearance': 'Short, slim, brown-haired, wears big boots. Almost never wears black (except for the hat) preferring blue or green. Has a silver necklace of the Horse (later a golden hare necklace).',\n",
       "  'Residence': 'Home Farm, The Chalk',\n",
       "  'Death': '',\n",
       "  'Parents': 'Joe Aching (father)',\n",
       "  'Relatives': 'Sarah Aching (Grandmother) Hannah and Fastidia Aching, and four older sisters younger brother Wentworth Aunt Hetty',\n",
       "  'Children': '',\n",
       "  'Marital Status': 'single',\n",
       "  'Books': \"The Wee Free Men,A Hat Full of Sky,Wintersmith,I Shall Wear Midnight,The Shepherd's Crown\",\n",
       "  'Cameos': ''},\n",
       " 'Wentworth_Aching': {'Name': 'Wentworth Aching',\n",
       "  'Race': 'Human',\n",
       "  'Age': '10 (born around 1985 UC )',\n",
       "  'Occupation': '',\n",
       "  'Physical appearance': 'Sticky',\n",
       "  'Residence': 'Home Farm, The Chalk',\n",
       "  'Death': '',\n",
       "  'Parents': 'Joe Aching (father) Mrs. Aching (mother)',\n",
       "  'Relatives': 'Sarah Aching (Grandmother) Tiffany , Hannah, Fastidia,\\nfour other older sisters Aunt Hetty',\n",
       "  'Children': '',\n",
       "  'Marital Status': 'Single',\n",
       "  'Books': 'The Wee Free Men,Wintersmith,I Shall Wear Midnight',\n",
       "  'Cameos': 'A Hat Full of Sky'}}"
      ]
     },
     "execution_count": 235,
     "metadata": {},
     "output_type": "execute_result"
    }
   ],
   "source": [
    "bio_dict"
   ]
  },
  {
   "cell_type": "code",
   "execution_count": 222,
   "metadata": {},
   "outputs": [],
   "source": [
    "import unicodedata"
   ]
  },
  {
   "cell_type": "code",
   "execution_count": 229,
   "metadata": {},
   "outputs": [
    {
     "data": {
      "text/plain": [
       "'Great_A_Tuin'"
      ]
     },
     "execution_count": 229,
     "metadata": {},
     "output_type": "execute_result"
    }
   ],
   "source": [
    "'Great_A%27Tuin'.replace('%27', '_')"
   ]
  },
  {
   "cell_type": "code",
   "execution_count": 228,
   "metadata": {},
   "outputs": [
    {
     "data": {
      "text/plain": [
       "'Great_A%27Tuin'"
      ]
     },
     "execution_count": 228,
     "metadata": {},
     "output_type": "execute_result"
    }
   ],
   "source": [
    "unicodedata.normalize('NFKC', 'Great_A%27Tuin')"
   ]
  },
  {
   "cell_type": "code",
   "execution_count": 68,
   "metadata": {},
   "outputs": [],
   "source": [
    "# Categories"
   ]
  },
  {
   "cell_type": "code",
   "execution_count": 190,
   "metadata": {},
   "outputs": [
    {
     "data": {
      "text/plain": [
       "'Discworld characters,Leading characters,Serial characters,Human characters,Wizards'"
      ]
     },
     "execution_count": 190,
     "metadata": {},
     "output_type": "execute_result"
    }
   ],
   "source": [
    "soup4.select('div .mw-normal-catlinks > ul')[0].getText(separator=',', strip=True)"
   ]
  },
  {
   "cell_type": "code",
   "execution_count": 171,
   "metadata": {
    "collapsed": true
   },
   "outputs": [],
   "source": [
    "# Character info"
   ]
  },
  {
   "cell_type": "code",
   "execution_count": 162,
   "metadata": {},
   "outputs": [],
   "source": [
    "table_elms = soup4.select('div .mw-content-ltr tr[style=\"vertical-align: top; text-align: left;\"]')"
   ]
  },
  {
   "cell_type": "code",
   "execution_count": 163,
   "metadata": {},
   "outputs": [],
   "source": [
    "char = 'Rincewind'\n",
    "char_info = {char: {}}"
   ]
  },
  {
   "cell_type": "code",
   "execution_count": 168,
   "metadata": {},
   "outputs": [],
   "source": []
  },
  {
   "cell_type": "code",
   "execution_count": 170,
   "metadata": {},
   "outputs": [
    {
     "data": {
      "text/plain": [
       "{'Rincewind': {'Name': \"Rincewind, first name unknown.  Has referred to himself as Rincewand (see The Last Continent ), but don't believe it.\",\n",
       "  'Race': 'Human',\n",
       "  'Age': 'Possibly born in 1932 UC, making him 32 in The Colour of Magic and 57 as of The Last Hero .',\n",
       "  'Occupation': 'Wizzard , egregious professor of cruel and unusual geography',\n",
       "  'Physical appearance': 'Young, athletic, often disheveled',\n",
       "  'Residence': 'Currently Unseen University',\n",
       "  'Death': '',\n",
       "  'Parents': '',\n",
       "  'Relatives': 'possibly Bill Rincewind ; Lavaeolus might be an ancestor. Dr Rjinswand on Roundworld is a parellel-world version who has discovered something as good and as dangerous as magic, in nuclear energy...',\n",
       "  'Children': '',\n",
       "  'Marital Status': '',\n",
       "  'Books': 'Rincewind series',\n",
       "  'Cameos': 'Mort , Unseen Academicals'}}"
      ]
     },
     "execution_count": 170,
     "metadata": {},
     "output_type": "execute_result"
    }
   ],
   "source": [
    "char_info"
   ]
  }
 ],
 "metadata": {
  "kernelspec": {
   "display_name": "Python 3",
   "language": "python",
   "name": "python3"
  },
  "language_info": {
   "codemirror_mode": {
    "name": "ipython",
    "version": 3
   },
   "file_extension": ".py",
   "mimetype": "text/x-python",
   "name": "python",
   "nbconvert_exporter": "python",
   "pygments_lexer": "ipython3",
   "version": "3.6.7"
  }
 },
 "nbformat": 4,
 "nbformat_minor": 2
}
