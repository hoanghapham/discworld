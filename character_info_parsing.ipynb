{
 "cells": [
  {
   "cell_type": "code",
   "execution_count": 88,
   "metadata": {},
   "outputs": [],
   "source": [
    "import pandas as pd\n",
    "import numpy as np\n",
    "import os\n",
    "import bs4\n",
    "import requests\n",
    "from time import sleep\n",
    "from lib import utils\n",
    "import json\n",
    "from IPython.display import display, clear_output"
   ]
  },
  {
   "cell_type": "code",
   "execution_count": 102,
   "metadata": {},
   "outputs": [],
   "source": [
    "file_list = os.listdir('character_pages/')"
   ]
  },
  {
   "cell_type": "code",
   "execution_count": 103,
   "metadata": {},
   "outputs": [
    {
     "name": "stdout",
     "output_type": "stream",
     "text": [
      "Parsing file 1258 of 1258: Zlorf_Flannelfoot.html\r"
     ]
    }
   ],
   "source": [
    "content_dict = {}\n",
    "categories_dict = {}\n",
    "bio_dict = {}\n",
    "\n",
    "for counter, file in enumerate(file_list, start=1):\n",
    "    with open('character_pages/' + file, 'r') as obj:\n",
    "        page_html = obj.read()\n",
    "    \n",
    "    char = file.split('.')[0]\n",
    "    page_soup = bs4.BeautifulSoup(page_html)\n",
    "    \n",
    "    clear_output()\n",
    "    print('Parsing file {} of {}: {}'.format(counter, len(file_list), file), end='\\r')\n",
    "    \n",
    "    # Content\n",
    "    content_elms = page_soup.select('div .mw-content-ltr > p')\n",
    "    content_txt = ' '.join([content_elms[x].getText(separator=' ',strip=True) for x in range(len(content_elms))])\n",
    "    content_dict[char] = content_txt\n",
    "    \n",
    "    # Character Categories\n",
    "    cate = page_soup.select('div .mw-normal-catlinks > ul')[0].getText(separator=',', strip=True)\n",
    "    categories_dict[char] = cate\n",
    "    \n",
    "    # Character biography\n",
    "    bio_elms = page_soup.select('div .mw-content-ltr tr[style=\"vertical-align: top; text-align: left;\"]')\n",
    "    bio_dict[char] = {}\n",
    "    for elm in bio_elms:\n",
    "        key = elm.select('td')[0].getText().strip()\n",
    "        if key == 'Books':\n",
    "            value = elm.select('td')[1].getText(separator=',', strip=True)\n",
    "        else:\n",
    "            value = elm.select('td')[1].getText(separator=' ', strip=True)\n",
    "        bio_dict[char][key] = value"
   ]
  },
  {
   "cell_type": "code",
   "execution_count": 104,
   "metadata": {},
   "outputs": [],
   "source": [
    "content_df = pd.DataFrame({\n",
    "    'char': list(content_dict.keys())\n",
    "    , 'content': list(content_dict.values())\n",
    "})"
   ]
  },
  {
   "cell_type": "code",
   "execution_count": 111,
   "metadata": {},
   "outputs": [],
   "source": [
    "content_df.to_csv('data/raw/character_contents.csv', index=False)"
   ]
  },
  {
   "cell_type": "code",
   "execution_count": 105,
   "metadata": {},
   "outputs": [],
   "source": [
    "categories_df = pd.DataFrame({\n",
    "    'char': list(categories_dict.keys())\n",
    "    , 'categories': list(categories_dict.values())\n",
    "})"
   ]
  },
  {
   "cell_type": "code",
   "execution_count": 112,
   "metadata": {},
   "outputs": [],
   "source": [
    "categories_df.to_csv('data/raw/character_categories.csv', index=False)"
   ]
  },
  {
   "cell_type": "code",
   "execution_count": 106,
   "metadata": {},
   "outputs": [],
   "source": [
    "bio_df = pd.DataFrame({\n",
    "    'char': list(bio_dict.keys())\n",
    "})"
   ]
  },
  {
   "cell_type": "code",
   "execution_count": 107,
   "metadata": {},
   "outputs": [],
   "source": [
    "cols = ['Name', 'Race', 'Age', 'Occupation', 'Physical appearance'\n",
    "        , 'Residence', 'Death', 'Parents', 'Relatives', 'Children'\n",
    "        , 'Marital Status', 'Books', 'Cameos']"
   ]
  },
  {
   "cell_type": "code",
   "execution_count": 108,
   "metadata": {},
   "outputs": [],
   "source": [
    "for counter, char in enumerate(bio_dict.keys()):\n",
    "    for col in cols:\n",
    "        if col not in bio_dict[char].keys():\n",
    "            bio_df.loc[counter, col] = np.nan\n",
    "        else:\n",
    "            bio_df.loc[counter, col] = bio_dict[char][col]"
   ]
  },
  {
   "cell_type": "code",
   "execution_count": 113,
   "metadata": {},
   "outputs": [],
   "source": [
    "bio_df.to_csv('data/raw/character_bios.csv', index=False)"
   ]
  }
 ],
 "metadata": {
  "kernelspec": {
   "display_name": "Python 3",
   "language": "python",
   "name": "python3"
  },
  "language_info": {
   "codemirror_mode": {
    "name": "ipython",
    "version": 3
   },
   "file_extension": ".py",
   "mimetype": "text/x-python",
   "name": "python",
   "nbconvert_exporter": "python",
   "pygments_lexer": "ipython3",
   "version": "3.6.7"
  }
 },
 "nbformat": 4,
 "nbformat_minor": 2
}
